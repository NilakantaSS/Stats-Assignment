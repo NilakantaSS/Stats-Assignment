{
 "cells": [
  {
   "cell_type": "markdown",
   "id": "28ba81c7",
   "metadata": {},
   "source": [
    "1.\tIs it possible that an event is independent of itself? If so, when?\n"
   ]
  },
  {
   "cell_type": "markdown",
   "id": "0f0fba97",
   "metadata": {},
   "source": [
    "Yes, a random independent variable can be independent of itself using the definition of independence where the probability of the constant is equal to 0 or 1. Two events and are independent if and only if . So an event is independent wrt itself if and only if ."
   ]
  },
  {
   "cell_type": "code",
   "execution_count": null,
   "id": "7a4d4fd6",
   "metadata": {},
   "outputs": [],
   "source": []
  },
  {
   "cell_type": "markdown",
   "id": "85dd50df",
   "metadata": {},
   "source": [
    "2.\tIs it always true that if A and B are independent events, then Ac and Bc are independent events? Show that it is, or give a counterexample.\n",
    "\n"
   ]
  },
  {
   "cell_type": "markdown",
   "id": "9469247a",
   "metadata": {},
   "source": [
    "The literal meaning of Independent Events is the events which occur freely of each other. The events are independent of each other. In other words, the occurrence of one event does not affect the occurrence of the other. The probability of occurring of the two events are independent of each other.\n",
    "\n",
    "An event A is said to be independent of another event B if the probability of occurrence of one of them is not affected by the occurrence of the other.\n",
    "\n",
    "Suppose if we draw two cards from a pack of cards one after the other. The results of the two draws are independent if the cards are drawn with replacement i.e., the first card is put back into the pack before the second draw. If the cards are not replaced then the events of drawing the cards are not independent.\n",
    "\n",
    "Statistically, An event A is said to be independent of another event B, if the conditional probability of A given B, i.e, P(A | B) is equal to the unconditional probability of A. P(B) ≠ 0.\n",
    "\n",
    "P(A | B) = P(A)\n",
    "\n",
    "The term mutually exclusive should not be mixed with the term independent. The term mutually exclusive is related to the occurrence of an event. By independence of events, we mean the independence of probability of occurrence of events."
   ]
  },
  {
   "cell_type": "code",
   "execution_count": null,
   "id": "ace8b7c7",
   "metadata": {},
   "outputs": [],
   "source": []
  }
 ],
 "metadata": {
  "kernelspec": {
   "display_name": "Python 3",
   "language": "python",
   "name": "python3"
  },
  "language_info": {
   "codemirror_mode": {
    "name": "ipython",
    "version": 3
   },
   "file_extension": ".py",
   "mimetype": "text/x-python",
   "name": "python",
   "nbconvert_exporter": "python",
   "pygments_lexer": "ipython3",
   "version": "3.8.8"
  }
 },
 "nbformat": 4,
 "nbformat_minor": 5
}
